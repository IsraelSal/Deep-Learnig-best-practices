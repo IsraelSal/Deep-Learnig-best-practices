{
 "cells": [
  {
   "cell_type": "code",
   "execution_count": 1,
   "metadata": {
    "ExecuteTime": {
     "end_time": "2019-01-22T15:56:50.990988Z",
     "start_time": "2019-01-22T15:55:44.374173Z"
    }
   },
   "outputs": [],
   "source": [
    "import tensorflow as tf\n",
    "import numpy as np\n",
    "from sklearn import datasets\n",
    "from tensorflow.examples.tutorials.mnist import input_data"
   ]
  },
  {
   "cell_type": "code",
   "execution_count": 2,
   "metadata": {
    "ExecuteTime": {
     "end_time": "2019-01-22T15:56:51.003900Z",
     "start_time": "2019-01-22T15:56:50.996041Z"
    }
   },
   "outputs": [],
   "source": [
    "# Function to read the MNIST dataset along with the labels\n",
    "def read_infile():\n",
    "    mnist = input_data.read_data_sets('./MNIST', one_hot=True)\n",
    "    train_X, train_Y, test_X, test_Y = mnist.train.images, mnist.train.labels,mnist.test.images, mnist.test.labels\n",
    "    return train_X,train_Y,test_X,test_Y"
   ]
  },
  {
   "cell_type": "code",
   "execution_count": 3,
   "metadata": {
    "ExecuteTime": {
     "end_time": "2019-01-22T15:56:51.023935Z",
     "start_time": "2019-01-22T15:56:51.011901Z"
    }
   },
   "outputs": [],
   "source": [
    "#  Define the weights and biases for the neural network\n",
    "def weights_biases_placeholder(n_dim, n_classes):\n",
    "    X = tf.placeholder(tf.float32,[None, n_dim])\n",
    "    Y = tf.placeholder(tf.float32,[None, n_classes])\n",
    "    w = tf.Variable(tf.random_normal([n_dim, n_classes],stddev=0.01), name='weights')\n",
    "    b = tf.Variable(tf.random_normal([n_classes]), name='bias')\n",
    "    return X,Y,w,b"
   ]
  },
  {
   "cell_type": "code",
   "execution_count": 5,
   "metadata": {
    "ExecuteTime": {
     "end_time": "2019-01-22T15:56:51.042206Z",
     "start_time": "2019-01-22T15:56:51.030498Z"
    }
   },
   "outputs": [],
   "source": [
    "# define the forward pass\n",
    "def forward_pass(w,b,X):\n",
    "    out=tf.matmul(X,w) + b\n",
    "    return out"
   ]
  },
  {
   "cell_type": "code",
   "execution_count": 6,
   "metadata": {
    "ExecuteTime": {
     "end_time": "2019-01-22T15:56:51.054117Z",
     "start_time": "2019-01-22T15:56:51.047004Z"
    }
   },
   "outputs": [],
   "source": [
    "# Define the cost function\n",
    "def multiclass_cost(out, Y):\n",
    "    cost = tf.reduce_mean(tf.nn.softmax_cross_entropy_with_logits_v2(logits=out, labels=Y))\n",
    "    return cost"
   ]
  },
  {
   "cell_type": "code",
   "execution_count": 7,
   "metadata": {
    "ExecuteTime": {
     "end_time": "2019-01-22T15:56:51.063548Z",
     "start_time": "2019-01-22T15:56:51.059365Z"
    }
   },
   "outputs": [],
   "source": [
    "# Define the initialization op\n",
    "#def init():\n",
    " #   return tf.global_variables_initializer()"
   ]
  },
  {
   "cell_type": "code",
   "execution_count": 8,
   "metadata": {
    "ExecuteTime": {
     "end_time": "2019-01-22T15:56:51.073823Z",
     "start_time": "2019-01-22T15:56:51.067285Z"
    }
   },
   "outputs": [],
   "source": [
    "# define the trainig op\n",
    "def train_op(learning_rate, cost):\n",
    "    op_train = tf.train.GradientDescentOptimizer(learning_rate).minimize(cost)\n",
    "    return op_train\n",
    "    "
   ]
  },
  {
   "cell_type": "code",
   "execution_count": 13,
   "metadata": {
    "ExecuteTime": {
     "end_time": "2019-01-22T15:56:52.896358Z",
     "start_time": "2019-01-22T15:56:51.079231Z"
    }
   },
   "outputs": [
    {
     "name": "stdout",
     "output_type": "stream",
     "text": [
      "Extracting ./MNIST/train-images-idx3-ubyte.gz\n",
      "Extracting ./MNIST/train-labels-idx1-ubyte.gz\n",
      "Extracting ./MNIST/t10k-images-idx3-ubyte.gz\n",
      "Extracting ./MNIST/t10k-labels-idx1-ubyte.gz\n"
     ]
    }
   ],
   "source": [
    "train_X, train_Y, test_X, test_Y = read_infile()\n",
    "X,Y,w,b = weights_biases_placeholder(train_X.shape[1], train_Y.shape[1])\n",
    "out = forward_pass(w,b,X)\n",
    "cost = multiclass_cost(out,Y)\n",
    "learning_rate = 0.01\n",
    "epochs = 100\n",
    "op_train = train_op(learning_rate, cost)\n",
    "# init()\n",
    "loss_trace = []\n",
    "accuracy_trace = []"
   ]
  },
  {
   "cell_type": "code",
   "execution_count": 15,
   "metadata": {
    "ExecuteTime": {
     "start_time": "2019-01-22T15:30:29.245Z"
    }
   },
   "outputs": [
    {
     "name": "stdout",
     "output_type": "stream",
     "text": [
      "Final training result: loss: 2.6608076 accuracy 0.10532727272727273\n",
      "Final training result: loss: 2.6255965 accuracy 0.10707272727272728\n",
      "Final training result: loss: 2.592507 accuracy 0.10961818181818182\n",
      "Final training result: loss: 2.561312 accuracy 0.11325454545454545\n",
      "Final training result: loss: 2.53182 accuracy 0.12161818181818182\n",
      "Final training result: loss: 2.5038593 accuracy 0.13238181818181818\n",
      "Final training result: loss: 2.4772868 accuracy 0.14452727272727273\n",
      "Final training result: loss: 2.451974 accuracy 0.15923636363636365\n",
      "Final training result: loss: 2.4278052 accuracy 0.1781090909090909\n",
      "Final training result: loss: 2.4046884 accuracy 0.1986181818181818\n",
      "Final training result: loss: 2.382534 accuracy 0.21892727272727272\n",
      "Final training result: loss: 2.3612647 accuracy 0.23805454545454546\n",
      "Final training result: loss: 2.3408148 accuracy 0.2570363636363636\n",
      "Final training result: loss: 2.321122 accuracy 0.2741454545454545\n",
      "Final training result: loss: 2.3021357 accuracy 0.29058181818181816\n",
      "Final training result: loss: 2.283808 accuracy 0.30436363636363634\n",
      "Final training result: loss: 2.2660875 accuracy 0.31723636363636365\n",
      "Final training result: loss: 2.2489436 accuracy 0.32885454545454545\n",
      "Final training result: loss: 2.232337 accuracy 0.33947272727272726\n",
      "Final training result: loss: 2.2162352 accuracy 0.3492363636363636\n",
      "Final training result: loss: 2.2006085 accuracy 0.359\n",
      "Final training result: loss: 2.1854303 accuracy 0.3688909090909091\n",
      "Final training result: loss: 2.1706777 accuracy 0.3772\n",
      "Final training result: loss: 2.1563253 accuracy 0.38585454545454545\n",
      "Final training result: loss: 2.1423504 accuracy 0.39445454545454545\n",
      "Final training result: loss: 2.1287384 accuracy 0.4032909090909091\n",
      "Final training result: loss: 2.1154678 accuracy 0.41243636363636366\n",
      "Final training result: loss: 2.1025245 accuracy 0.4202727272727273\n",
      "Final training result: loss: 2.0898898 accuracy 0.4283818181818182\n",
      "Final training result: loss: 2.0775492 accuracy 0.437\n",
      "Final training result: loss: 2.0654917 accuracy 0.4445818181818182\n",
      "Final training result: loss: 2.0537028 accuracy 0.4523090909090909\n",
      "Final training result: loss: 2.0421727 accuracy 0.4602363636363636\n",
      "Final training result: loss: 2.0308862 accuracy 0.46816363636363634\n",
      "Final training result: loss: 2.019834 accuracy 0.4758727272727273\n",
      "Final training result: loss: 2.0090106 accuracy 0.48376363636363634\n",
      "Final training result: loss: 1.9983993 accuracy 0.49114545454545455\n",
      "Final training result: loss: 1.9879955 accuracy 0.49912727272727275\n",
      "Final training result: loss: 1.9777924 accuracy 0.5067818181818182\n",
      "Final training result: loss: 1.9677774 accuracy 0.5137636363636363\n",
      "Final training result: loss: 1.9579458 accuracy 0.5203272727272727\n",
      "Final training result: loss: 1.9482931 accuracy 0.5270181818181818\n",
      "Final training result: loss: 1.9388074 accuracy 0.5334\n",
      "Final training result: loss: 1.9294841 accuracy 0.5401636363636364\n",
      "Final training result: loss: 1.920317 accuracy 0.5457272727272727\n",
      "Final training result: loss: 1.9113011 accuracy 0.551509090909091\n",
      "Final training result: loss: 1.902433 accuracy 0.5567818181818182\n",
      "Final training result: loss: 1.8937024 accuracy 0.5616363636363636\n",
      "Final training result: loss: 1.8851073 accuracy 0.5668181818181818\n",
      "Final training result: loss: 1.876643 accuracy 0.5720727272727273\n",
      "Final training result: loss: 1.8683069 accuracy 0.5770727272727273\n",
      "Final training result: loss: 1.8600883 accuracy 0.5815090909090909\n",
      "Final training result: loss: 1.8519901 accuracy 0.5854\n",
      "Final training result: loss: 1.8440044 accuracy 0.5893636363636363\n",
      "Final training result: loss: 1.8361287 accuracy 0.5930181818181818\n",
      "Final training result: loss: 1.8283585 accuracy 0.5966727272727272\n",
      "Final training result: loss: 1.8206947 accuracy 0.6003272727272727\n",
      "Final training result: loss: 1.8131281 accuracy 0.6038363636363636\n",
      "Final training result: loss: 1.805658 accuracy 0.6072363636363637\n",
      "Final training result: loss: 1.7982821 accuracy 0.6114545454545455\n",
      "Final training result: loss: 1.7909977 accuracy 0.6146181818181818\n",
      "Final training result: loss: 1.7838014 accuracy 0.6180181818181818\n",
      "Final training result: loss: 1.7766913 accuracy 0.6211636363636364\n",
      "Final training result: loss: 1.7696637 accuracy 0.6233636363636363\n",
      "Final training result: loss: 1.7627184 accuracy 0.6268181818181818\n",
      "Final training result: loss: 1.75585 accuracy 0.6301636363636364\n",
      "Final training result: loss: 1.7490611 accuracy 0.6327272727272727\n",
      "Final training result: loss: 1.7423433 accuracy 0.6356181818181819\n",
      "Final training result: loss: 1.7357024 accuracy 0.6383636363636364\n",
      "Final training result: loss: 1.729131 accuracy 0.6409454545454546\n",
      "Final training result: loss: 1.722627 accuracy 0.6433818181818182\n",
      "Final training result: loss: 1.7161922 accuracy 0.6459636363636364\n",
      "Final training result: loss: 1.7098231 accuracy 0.6480545454545454\n",
      "Final training result: loss: 1.7035187 accuracy 0.6505636363636363\n",
      "Final training result: loss: 1.6972746 accuracy 0.6527272727272727\n",
      "Final training result: loss: 1.6910949 accuracy 0.6548363636363637\n",
      "Final training result: loss: 1.6849724 accuracy 0.6569454545454545\n",
      "Final training result: loss: 1.6789103 accuracy 0.6590363636363636\n",
      "Final training result: loss: 1.6729066 accuracy 0.6610727272727273\n",
      "Final training result: loss: 1.6669595 accuracy 0.6631454545454546\n",
      "Final training result: loss: 1.6610674 accuracy 0.6652\n",
      "Final training result: loss: 1.6552281 accuracy 0.6670909090909091\n",
      "Final training result: loss: 1.6494427 accuracy 0.6691090909090909\n",
      "Final training result: loss: 1.6437111 accuracy 0.6707818181818181\n",
      "Final training result: loss: 1.6380274 accuracy 0.6725454545454546\n",
      "Final training result: loss: 1.6323951 accuracy 0.6741272727272727\n",
      "Final training result: loss: 1.6268122 accuracy 0.6753636363636364\n",
      "Final training result: loss: 1.6212767 accuracy 0.6766545454545455\n",
      "Final training result: loss: 1.6157892 accuracy 0.6777636363636363\n",
      "Final training result: loss: 1.6103523 accuracy 0.6794727272727272\n",
      "Final training result: loss: 1.604957 accuracy 0.6813454545454546\n",
      "Final training result: loss: 1.5996091 accuracy 0.6827636363636364\n",
      "Final training result: loss: 1.5943054 accuracy 0.6840909090909091\n",
      "Final training result: loss: 1.5890452 accuracy 0.6853090909090909\n",
      "Final training result: loss: 1.5838274 accuracy 0.6865272727272728\n",
      "Final training result: loss: 1.5786531 accuracy 0.6879090909090909\n",
      "Final training result: loss: 1.5735229 accuracy 0.6892909090909091\n",
      "Final training result: loss: 1.5684296 accuracy 0.6906363636363636\n",
      "Final training result: loss: 1.5633807 accuracy 0.6917090909090909\n",
      "Epoch: 100 loss: 1.5583696 accuracy: 0.6929636363636363\n",
      "Final training result: loss: 1.5583696 accuracy 0.6929636363636363\n",
      "Result on the test dataset: loss: 1.5443654 accuracy 0.705\n"
     ]
    }
   ],
   "source": [
    "# Activate the tensorflow and the stochastic gradient\n",
    "init = tf.global_variables_initializer()\n",
    "with tf.Session() as sess:\n",
    "    sess.run(init)\n",
    "    for i in range(epochs):\n",
    "        sess.run(op_train, feed_dict={X:train_X,Y:train_Y})\n",
    "        loss_ = sess.run(cost, feed_dict={X:train_X,Y:train_Y})\n",
    "        accuracy_ = np.mean(np.argmax(sess.run(out,feed_dict={X:train_X,Y:train_Y}),axis=1) == np.argmax(train_Y, axis=1))\n",
    "        loss_trace.append(loss_)\n",
    "        accuracy_trace.append(accuracy_)\n",
    "        if (((i+1) >= 100) and ((i+1) % 100 == 0)):\n",
    "            print('Epoch:', (i+1),'loss:', loss_,'accuracy:',accuracy_)    \n",
    "        print('Final training result:','loss:', loss_, 'accuracy', accuracy_)\n",
    "    loss_test = sess.run(cost, feed_dict={X:test_X,Y:test_Y})\n",
    "    test_pred = np.argmax(sess.run(out, feed_dict={X:test_X,Y:test_Y}), axis=1)\n",
    "    accuracy_test = np.mean(test_pred == np.argmax(test_Y, axis=1))\n",
    "    print('Result on the test dataset:','loss:', loss_test, 'accuracy', accuracy_test)"
   ]
  },
  {
   "cell_type": "code",
   "execution_count": 17,
   "metadata": {},
   "outputs": [
    {
     "name": "stdout",
     "output_type": "stream",
     "text": [
      "Actual digits:    [7 2 1 0 4 1 4 9 5 9]\n",
      "Predicted digits: [7 2 1 0 7 1 7 9 2 9]\n",
      "Actual images of the digits follow:\n"
     ]
    },
    {
     "data": {
      "image/png": "[encoded data removed]",
      "text/plain": [
       "<Figure size 720x144 with 10 Axes>"
      ]
     },
     "metadata": {
      "needs_background": "light"
     },
     "output_type": "display_data"
    }
   ],
   "source": [
    "import matplotlib.pyplot as plt\n",
    "%matplotlib inline\n",
    "f, a = plt.subplots(1, 10, figsize=(10, 2))\n",
    "print('Actual digits:   ', np.argmax(test_Y[0:10],axis=1))\n",
    "print('Predicted digits:',test_pred[0:10])\n",
    "print('Actual images of the digits follow:')\n",
    "for i in range(10):\n",
    "        a[i].imshow(np.reshape(test_X[i],(28, 28)))"
   ]
  },
  {
   "cell_type": "code",
   "execution_count": 25,
   "metadata": {},
   "outputs": [
    {
     "data": {
      "image/png": "[encoded data removed]",
      "text/plain": [
       "<Figure size 720x144 with 12 Axes>"
      ]
     },
     "metadata": {
      "needs_background": "light"
     },
     "output_type": "display_data"
    }
   ],
   "source": [
    "%matplotlib inline\n",
    "f, a = plt.subplots(1, 12, figsize=(10, 2))\n",
    "for i in range(12):\n",
    "        a[i].imshow(np.reshape(test_X[i],(28, 28)))"
   ]
  }
 ],
 "metadata": {
  "kernelspec": {
   "display_name": "Python 3",
   "language": "python",
   "name": "python3"
  },
  "language_info": {
   "codemirror_mode": {
    "name": "ipython",
    "version": 3
   },
   "file_extension": ".py",
   "mimetype": "text/x-python",
   "name": "python",
   "nbconvert_exporter": "python",
   "pygments_lexer": "ipython3",
   "version": "3.6.7"
  },
  "nbTranslate": {
   "displayLangs": [
    "*"
   ],
   "hotkey": "alt-t",
   "langInMainMenu": true,
   "sourceLang": "en",
   "targetLang": "fr",
   "useGoogleTranslate": true
  },
  "varInspector": {
   "cols": {
    "lenName": 16,
    "lenType": 16,
    "lenVar": 40
   },
   "kernels_config": {
    "python": {
     "delete_cmd_postfix": "",
     "delete_cmd_prefix": "del ",
     "library": "var_list.py",
     "varRefreshCmd": "print(var_dic_list())"
    },
    "r": {
     "delete_cmd_postfix": ") ",
     "delete_cmd_prefix": "rm(",
     "library": "var_list.r",
     "varRefreshCmd": "cat(var_dic_list()) "
    }
   },
   "oldHeight": 614.0489554405212,
   "position": {
    "height": "40px",
    "left": "635.9646606445313px",
    "right": "21.30434799194336px",
    "top": "-5.01358699798584px",
    "width": "530.5570678710938px"
   },
   "types_to_exclude": [
    "module",
    "function",
    "builtin_function_or_method",
    "instance",
    "_Feature"
   ],
   "varInspector_section_display": "none",
   "window_display": true
  }
 },
 "nbformat": 4,
 "nbformat_minor": 2
}
