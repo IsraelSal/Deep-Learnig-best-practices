{
 "cells": [
  {
   "cell_type": "code",
   "execution_count": 1,
   "metadata": {
    "ExecuteTime": {
     "end_time": "2019-01-23T16:56:06.577358Z",
     "start_time": "2019-01-23T16:56:00.165247Z"
    }
   },
   "outputs": [],
   "source": [
    "# Illustate 2D convolution of images through an example\n",
    "import scipy.signal\n",
    "import numpy as np"
   ]
  },
  {
   "cell_type": "code",
   "execution_count": 2,
   "metadata": {
    "ExecuteTime": {
     "end_time": "2019-01-23T16:57:24.575913Z",
     "start_time": "2019-01-23T16:57:24.568200Z"
    }
   },
   "outputs": [],
   "source": [
    "image = np.array([[1,2,3,4,5,6,7],\n",
    "                 [8, 9, 10, 11, 12, 13, 14],\n",
    "         [15, 16, 17, 18, 19, 20, 21],\n",
    "         [22, 23, 24, 25, 26, 27, 28],\n",
    "         [29, 30, 31, 32, 33, 34, 35],\n",
    "         [36, 37, 38, 39, 40, 41, 42],\n",
    "         [43, 44, 45, 46, 47, 48, 49]])"
   ]
  },
  {
   "cell_type": "code",
   "execution_count": 3,
   "metadata": {
    "ExecuteTime": {
     "end_time": "2019-01-23T17:01:20.273259Z",
     "start_time": "2019-01-23T17:01:20.268351Z"
    }
   },
   "outputs": [],
   "source": [
    "# Defined an image-processing kernel\n",
    "filter_kernel = np.array([[-1,1,-1],\n",
    "                          [-2,3,1],\n",
    "                         [2,-4,0]])"
   ]
  },
  {
   "cell_type": "code",
   "execution_count": 4,
   "metadata": {
    "ExecuteTime": {
     "end_time": "2019-01-23T17:06:08.818748Z",
     "start_time": "2019-01-23T17:06:08.811341Z"
    }
   },
   "outputs": [
    {
     "name": "stdout",
     "output_type": "stream",
     "text": [
      "[[ -2  -8  -7  -6  -5  -4  28]\n",
      " [  5  -3  -4  -5  -6  -7  28]\n",
      " [ -2 -10 -11 -12 -13 -14  28]\n",
      " [ -9 -17 -18 -19 -20 -21  28]\n",
      " [-16 -24 -25 -26 -27 -28  28]\n",
      " [-23 -31 -32 -33 -34 -35  28]\n",
      " [-29  13  13  13  13  13  27]]\n"
     ]
    }
   ],
   "source": [
    "# Convolve the image with the filter kernel through scipy 2D convolution to produce an\n",
    "#output image of same dimension as that of the input\n",
    "I = scipy.signal.convolve2d(image, filter_kernel, mode ='same', boundary = 'fill', fillvalue=0)\n",
    "print(I)"
   ]
  },
  {
   "cell_type": "markdown",
   "metadata": {},
   "source": [
    "        We replicate the logic of a scipy 2D convolution by going through the following steps \n",
    "     a) The boundaries need to be extended in both directions for the image and padded with zeroes.\n",
    "      For convolving the 7x7 image by 3x3 kernel, the dimensions need to be extended by\n",
    "    (3-1)/2—i.e., 1—\n",
    "    #on either side for each dimension. So a skeleton image of 9x9 image would be created\n",
    "     in which the boundaries of 1 pixel are pre-filled with zero.\n",
    "     b) The kernel needs to be flipped—i.e., rotated—by 180 degrees\n",
    "     c) The flipped kernel needs to placed at each coordinate location for the image and then\n",
    "    the sum of\n",
    "    coordinate-wise product with the image intensities needs to be computed. These sums for\n",
    "    each coordinate would give\n",
    "    the intensities for the output image."
   ]
  },
  {
   "cell_type": "code",
   "execution_count": 5,
   "metadata": {
    "ExecuteTime": {
     "end_time": "2019-01-23T17:40:33.334654Z",
     "start_time": "2019-01-23T17:40:33.316690Z"
    }
   },
   "outputs": [
    {
     "name": "stdout",
     "output_type": "stream",
     "text": [
      "[[ 0.  0.  0.  0.  0.  0.  0.  0.  0.]\n",
      " [ 0.  1.  2.  3.  4.  5.  6.  7.  0.]\n",
      " [ 0.  8.  9. 10. 11. 12. 13. 14.  0.]\n",
      " [ 0. 15. 16. 17. 18. 19. 20. 21.  0.]\n",
      " [ 0. 22. 23. 24. 25. 26. 27. 28.  0.]\n",
      " [ 0. 29. 30. 31. 32. 33. 34. 35.  0.]\n",
      " [ 0. 36. 37. 38. 39. 40. 41. 42.  0.]\n",
      " [ 0. 43. 44. 45. 46. 47. 48. 49.  0.]\n",
      " [ 0.  0.  0.  0.  0.  0.  0.  0.  0.]]\n"
     ]
    }
   ],
   "source": [
    "row,col = 7,7\n",
    "#Rotate the filter kernel twice by 90 degrees to get 180 rotation\n",
    "filter_kernel_flipped = np.rot90(filter_kernel,2)\n",
    "## Pad the boundaries of the image with zeroes and fill the rest from the original image\n",
    "image1 = np.zeros((9,9))\n",
    "for i in range(row):\n",
    "    for j in range(col):\n",
    "        image1[i+1, j+1] = image[i,j]\n",
    "print(image1)"
   ]
  },
  {
   "cell_type": "code",
   "execution_count": 7,
   "metadata": {},
   "outputs": [
    {
     "data": {
      "text/plain": [
       "array([[ 0, -4,  2],\n",
       "       [ 1,  3, -2],\n",
       "       [-1,  1, -1]])"
      ]
     },
     "execution_count": 7,
     "metadata": {},
     "output_type": "execute_result"
    }
   ],
   "source": [
    "filter_kernel_flipped"
   ]
  },
  {
   "cell_type": "code",
   "execution_count": 6,
   "metadata": {
    "ExecuteTime": {
     "end_time": "2019-01-23T17:50:12.324034Z",
     "start_time": "2019-01-23T17:50:12.310773Z"
    },
    "scrolled": true
   },
   "outputs": [
    {
     "name": "stdout",
     "output_type": "stream",
     "text": [
      "[[ -2.  -8.  -7.  -6.  -5.  -4.  28.]\n",
      " [  5.  -3.  -4.  -5.  -6.  -7.  28.]\n",
      " [ -2. -10. -11. -12. -13. -14.  28.]\n",
      " [ -9. -17. -18. -19. -20. -21.  28.]\n",
      " [-16. -24. -25. -26. -27. -28.  28.]\n",
      " [-23. -31. -32. -33. -34. -35.  28.]\n",
      " [-29.  13.  13.  13.  13.  13.  27.]]\n"
     ]
    }
   ],
   "source": [
    "# Define the output image\n",
    "image_out = np.zeros((row,col))\n",
    "# Dynamic shifting of the flipped filter at each image coordinate and then computing the\n",
    "# convolved sum.\n",
    "for i in range(1,1+row):\n",
    "    for j in range(1,1+col):\n",
    "        arr_chunk = np.zeros((3,3))\n",
    "        \n",
    "        for k,k1 in zip(range(i-1,i+2), range(3)):\n",
    "            for l,l1 in zip(range(j-1,j+2), range(3)):\n",
    "                arr_chunk[k1,l1] = image1[k,l]\n",
    "            \n",
    "        image_out[i-1,j-1] = np.sum(np.multiply(arr_chunk,filter_kernel_flipped))\n",
    "    \n",
    "print(image_out)\n",
    "#zip make the iterations in two list"
   ]
  },
  {
   "cell_type": "code",
   "execution_count": 10,
   "metadata": {},
   "outputs": [],
   "source": [
    "# the convolution operation fz in this mode\n",
    "ss = np.array([[0,0,0],[0,1,2],[0,8,9]])\n",
    "tt = np.multiply(ss,filter_kernel_flipped)"
   ]
  },
  {
   "cell_type": "code",
   "execution_count": 12,
   "metadata": {},
   "outputs": [
    {
     "data": {
      "text/plain": [
       "-2"
      ]
     },
     "execution_count": 12,
     "metadata": {},
     "output_type": "execute_result"
    }
   ],
   "source": [
    "np.sum(tt)"
   ]
  }
 ],
 "metadata": {
  "kernelspec": {
   "display_name": "Python 3",
   "language": "python",
   "name": "python3"
  },
  "language_info": {
   "codemirror_mode": {
    "name": "ipython",
    "version": 3
   },
   "file_extension": ".py",
   "mimetype": "text/x-python",
   "name": "python",
   "nbconvert_exporter": "python",
   "pygments_lexer": "ipython3",
   "version": "3.6.7"
  },
  "nbTranslate": {
   "displayLangs": [
    "*"
   ],
   "hotkey": "alt-t",
   "langInMainMenu": true,
   "sourceLang": "en",
   "targetLang": "fr",
   "useGoogleTranslate": true
  },
  "varInspector": {
   "cols": {
    "lenName": 16,
    "lenType": 16,
    "lenVar": 40
   },
   "kernels_config": {
    "python": {
     "delete_cmd_postfix": "",
     "delete_cmd_prefix": "del ",
     "library": "var_list.py",
     "varRefreshCmd": "print(var_dic_list())"
    },
    "r": {
     "delete_cmd_postfix": ") ",
     "delete_cmd_prefix": "rm(",
     "library": "var_list.r",
     "varRefreshCmd": "cat(var_dic_list()) "
    }
   },
   "position": {
    "height": "166px",
    "left": "796px",
    "right": "0px",
    "top": "2px",
    "width": "570px"
   },
   "types_to_exclude": [
    "module",
    "function",
    "builtin_function_or_method",
    "instance",
    "_Feature"
   ],
   "window_display": true
  }
 },
 "nbformat": 4,
 "nbformat_minor": 2
}
