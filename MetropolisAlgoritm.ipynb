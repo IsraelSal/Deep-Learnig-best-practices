{
  "nbformat": 4,
  "nbformat_minor": 0,
  "metadata": {
    "colab": {
      "name": "MetropolisAlgoritm.ipynb",
      "version": "0.3.2",
      "provenance": [],
      "collapsed_sections": []
    },
    "kernelspec": {
      "name": "python3",
      "display_name": "Python 3"
    }
  },
  "cells": [
    {
      "cell_type": "code",
      "metadata": {
        "id": "AWp5qGyP8w0r",
        "colab_type": "code",
        "colab": {}
      },
      "source": [
        "import numpy as np\n",
        "import matplotlib.pyplot as plt"
      ],
      "execution_count": 0,
      "outputs": []
    },
    {
      "cell_type": "code",
      "metadata": {
        "id": "DCgeVpBm_BvS",
        "colab_type": "code",
        "colab": {}
      },
      "source": [
        "import time\n",
        "start_time = time.time()"
      ],
      "execution_count": 0,
      "outputs": []
    },
    {
      "cell_type": "code",
      "metadata": {
        "id": "xUydCWIA_R1F",
        "colab_type": "code",
        "colab": {}
      },
      "source": [
        "num_samples = 100000\n",
        "prob_density = 0"
      ],
      "execution_count": 0,
      "outputs": []
    },
    {
      "cell_type": "code",
      "metadata": {
        "id": "UEY_wVcM_Va8",
        "colab_type": "code",
        "colab": {}
      },
      "source": [
        "mean = np.array([0,0])\n",
        "cov = np.array([[1,0.7],[0.7,1]])\n",
        "cov1 = np.matrix(cov)\n",
        "mean1 = np.matrix(mean)\n",
        "x_list, y_list = [],[]\n",
        "accepted_samples_count = 0"
      ],
      "execution_count": 0,
      "outputs": []
    },
    {
      "cell_type": "code",
      "metadata": {
        "id": "Zt99LuKzAHRA",
        "colab_type": "code",
        "colab": {}
      },
      "source": [
        "# normalize normal distribution\n",
        "normalizer = np.sqrt(((2*np.pi)**2)*np.linalg.det(cov))"
      ],
      "execution_count": 0,
      "outputs": []
    },
    {
      "cell_type": "code",
      "metadata": {
        "id": "Fu9_KQt_AIps",
        "colab_type": "code",
        "colab": {
          "base_uri": "https://localhost:8080/",
          "height": 34
        },
        "outputId": "b0471ccc-b8f1-4058-f357-f9d5497ca7bb"
      },
      "source": [
        "mean1\n"
      ],
      "execution_count": 23,
      "outputs": [
        {
          "output_type": "execute_result",
          "data": {
            "text/plain": [
              "matrix([[0, 0]])"
            ]
          },
          "metadata": {
            "tags": []
          },
          "execution_count": 23
        }
      ]
    },
    {
      "cell_type": "code",
      "metadata": {
        "id": "fDb3uDqRASki",
        "colab_type": "code",
        "colab": {}
      },
      "source": [
        "x_initial, y_initial = 0,0\n",
        "x1, y1 = x_initial, y_initial"
      ],
      "execution_count": 0,
      "outputs": []
    },
    {
      "cell_type": "code",
      "metadata": {
        "id": "EOHNobTsAzCa",
        "colab_type": "code",
        "colab": {
          "base_uri": "https://localhost:8080/",
          "height": 1405
        },
        "outputId": "93669742-6c98-4409-ddb4-de402ed9b1b1"
      },
      "source": [
        "for i in range(num_samples):\n",
        "  mean_trans = np.array([x1,y1])\n",
        "  cov_trans = np.array([[0.2,0],[0,0.2]])\n",
        "  x2, y2 = np.random.multivariate_normal(mean_trans, cov_trans).T\n",
        "  X = np.array([x2,y2])\n",
        "  X2 = np.matrix(X)\n",
        "  X1 = np.matrix(mean_trans)\n",
        "  # Compare the probability density of existing point and the new sampled point\n",
        "  mahalnobis_dist2 = (X2 - mean1)*np.linalg.inv(cov)*(X2 - mean1).T\n",
        "  prob_density2 = (1/float(normalizer))*np.exp(-0.5*mahalnobis_dist2)\n",
        "  mahalnobis_dist1 = (X1 - mean1)*np.linalg.inv(cov)*(X1 - mean1).T\n",
        "  prob_density1 = (1/float(normalizer))*np.exp(-0.5*mahalnobis_dist1)\n",
        "  #comparing the ratio of probability density of the new pnt and th\n",
        "  #existing pnt(acceemtance_ratio) and selecting new pnt if this have\n",
        "  #more hight probability density, if less probability it is randomly selected\n",
        "  acceptance_ratio = prob_density2[0,0] / float(prob_density1[0,0])\n",
        "  if ( acceptance_ratio >= 1) | ((acceptance_ratio < 1) and (acceptance_ratio >= np.random.uniform(0,1))):\n",
        "    x_list.append(x2)\n",
        "    y_list.append(y2)\n",
        "    x1 = x2\n",
        "    y1 = y2\n",
        "    accepted_samples_count += 1\n",
        "    end_time = time.time()\n",
        "    \n",
        "    print(\"Time taken to sample\" + str(accepted_samples_count) + \"points ==> \" + str(end_time - start_time) + \"seconds\")\n",
        "    print(\"Acceotance ratio ==>\", accepted_samples_count/float(100000))\n",
        "    # time to display the samples generated\n",
        "    plt.xlabel(\"X\")\n",
        "    plt.ylabel(\"Y\")\n",
        "    plt.scatter(x_list, y_list, color='black')\n",
        "    print(\"Mean of the sample points\")\n",
        "    print(np.mean(x_list),np.mean(y_list))\n",
        "    print(\"convariance matrix of the sample points\")\n",
        "    print(np.cov(x_list, y_list))\n",
        "    \n",
        "  \n",
        "  "
      ],
      "execution_count": 26,
      "outputs": [
        {
          "output_type": "stream",
          "text": [
            "x2 =  0.3257624889348192 y2 -0.46120413960160533\n",
            "Time taken to sample9points ==> 10503.482592821121seconds\n",
            "Acceotance ratio ==> 9e-05\n",
            "Mean of the sample points\n",
            "-0.4629148873113431 -0.6762778005973481\n",
            "convariance matrix of the sample points\n",
            "[[0.23274352 0.02254853]\n",
            " [0.02254853 0.12766548]]\n",
            "x2 =  0.7070568724763853 y2 -0.27584191925714147\n",
            "Time taken to sample10points ==> 10503.506296157837seconds\n",
            "Acceotance ratio ==> 0.0001\n",
            "Mean of the sample points\n",
            "-0.3459177113325703 -0.6362342124633275\n",
            "convariance matrix of the sample points\n",
            "[[0.34376652 0.06689301]\n",
            " [0.06689301 0.12951532]]\n",
            "x2 =  0.9830093829845094 y2 0.11596536530209178\n",
            "Time taken to sample11points ==> 10503.511735916138seconds\n",
            "Acceotance ratio ==> 0.00011\n",
            "Mean of the sample points\n",
            "-0.22510615730374486 -0.5678524326664711\n",
            "convariance matrix of the sample points\n",
            "[[0.46993962 0.15107811]\n",
            " [0.15107811 0.16800053]]\n",
            "x2 =  1.6992085316406675 y2 -0.33856731637007526\n",
            "x2 =  1.1377812815778277 y2 0.8093882110866745\n",
            "Time taken to sample12points ==> 10503.518751621246seconds\n",
            "Acceotance ratio ==> 0.00012\n",
            "Mean of the sample points\n",
            "-0.11153220406361382 -0.4530823790203757\n",
            "convariance matrix of the sample points\n",
            "[[0.58200635 0.2937624 ]\n",
            " [0.2937624  0.31079374]]\n",
            "x2 =  0.5700031123390398 y2 0.7288573620773587\n",
            "Time taken to sample13points ==> 10503.524753808975seconds\n",
            "Acceotance ratio ==> 0.00013\n",
            "Mean of the sample points\n",
            "-0.05910641049417893 -0.362163937397473\n",
            "convariance matrix of the sample points\n",
            "[[0.56923585 0.33124633]\n",
            " [0.33124633 0.39235438]]\n",
            "x2 =  0.07548457274196835 y2 0.2738356003007417\n",
            "Time taken to sample14points ==> 10503.529804468155seconds\n",
            "Acceotance ratio ==> 0.00014\n",
            "Mean of the sample points\n",
            "-0.04949276883445413 -0.31673539899045766\n",
            "convariance matrix of the sample points\n",
            "[[0.52674238 0.31188011]\n",
            " [0.31188011 0.3910658 ]]\n",
            "x2 =  0.738132183131077 y2 0.0068422800254782645\n",
            "Time taken to sample15points ==> 10503.534889221191seconds\n",
            "Acceotance ratio ==> 0.00015\n",
            "Mean of the sample points\n",
            "0.003015561296581278 -0.2951635537227286\n",
            "convariance matrix of the sample points\n",
            "[[0.5304748  0.30659349]\n",
            " [0.30659349 0.3701127 ]]\n",
            "x2 =  0.7191296268603689 y2 -0.8098691311864123\n",
            "x2 =  0.9118550332184173 y2 0.8233761960002036\n",
            "Time taken to sample16points ==> 10503.541085720062seconds\n",
            "Acceotance ratio ==> 0.00016\n",
            "Mean of the sample points\n",
            "0.059818028291696045 -0.22525481936504538\n",
            "convariance matrix of the sample points\n",
            "[[0.54673414 0.34968974]\n",
            " [0.34968974 0.42363422]]\n"
          ],
          "name": "stdout"
        },
        {
          "output_type": "display_data",
          "data": {
            "image/png": "[encoded data removed]",
            "text/plain": [
              "<Figure size 432x288 with 1 Axes>"
            ]
          },
          "metadata": {
            "tags": []
          }
        }
      ]
    },
    {
      "cell_type": "code",
      "metadata": {
        "id": "LEmetOuVWEib",
        "colab_type": "code",
        "colab": {
          "base_uri": "https://localhost:8080/",
          "height": 59
        },
        "outputId": "8b507fb8-3e22-4d9d-8ea1-408bfd4dfa8c"
      },
      "source": [
        ""
      ],
      "execution_count": 32,
      "outputs": [
        {
          "output_type": "stream",
          "text": [
            "[-0.2434416862010023, -1.116541826756134, -0.764858027131069, -0.37782851455421035, -0.577976987594035, -1.1285961581699775, -0.18001348927715188, -0.10273978505332688, 0.3257624889348192, 0.7070568724763853, 0.9830093829845094, 1.1377812815778277, 0.5700031123390398, 0.07548457274196835, 0.738132183131077, 0.9118550332184173]\n"
          ],
          "name": "stdout"
        }
      ]
    },
    {
      "cell_type": "code",
      "metadata": {
        "id": "k-X4AH1Zp7BK",
        "colab_type": "code",
        "colab": {}
      },
      "source": [
        ""
      ],
      "execution_count": 0,
      "outputs": []
    }
  ]
}