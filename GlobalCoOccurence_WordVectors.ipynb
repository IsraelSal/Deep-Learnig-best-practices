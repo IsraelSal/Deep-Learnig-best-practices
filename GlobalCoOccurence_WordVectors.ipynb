{
 "cells": [
  {
   "cell_type": "code",
   "execution_count": 1,
   "metadata": {},
   "outputs": [],
   "source": [
    "import numpy as np"
   ]
  },
  {
   "cell_type": "code",
   "execution_count": 2,
   "metadata": {},
   "outputs": [
    {
     "name": "stdout",
     "output_type": "stream",
     "text": [
      "['Una', 'pizza', 'per', 'portare', 'via']\n",
      "['Porto', 'via', 'il', 'civo']\n",
      "['Preferirei', 'mangire', 'qualcosa', 'a', 'casa']\n"
     ]
    }
   ],
   "source": [
    "corpus=['Una pizza per portare via', 'Porto via il civo','Preferirei mangire qualcosa a casa']\n",
    "corpus_words_unique = set()\n",
    "corpus_processed_docs = []\n",
    "for doc in corpus:\n",
    "    corpus_words_ = []\n",
    "    corpus_words = doc.split()\n",
    "    print(corpus_words)\n",
    "    for x in corpus_words:\n",
    "        if len(x.split('.')) == 2:\n",
    "            corpus_words_ += [x.split('.')[0]] + ['.']\n",
    "        else:\n",
    "            corpus_words_ += x.split('.')\n",
    "    corpus_processed_docs.append(corpus_words_)\n",
    "    corpus_words_unique.update(corpus_words_)"
   ]
  },
  {
   "cell_type": "code",
   "execution_count": 3,
   "metadata": {},
   "outputs": [
    {
     "name": "stdout",
     "output_type": "stream",
     "text": [
      "sono indece_1  [[12]]\n",
      "sono indece_2  [[11]]\n",
      "sono co_occurence_matrix  [[0. 0. 0. 0. 0. 0. 0. 0. 0. 0. 0. 0. 0.]\n",
      " [0. 0. 0. 0. 0. 0. 0. 0. 0. 0. 0. 0. 0.]\n",
      " [0. 0. 0. 0. 0. 0. 0. 0. 0. 0. 0. 0. 0.]\n",
      " [0. 0. 0. 0. 0. 0. 0. 0. 0. 0. 0. 0. 0.]\n",
      " [0. 0. 0. 0. 0. 0. 0. 0. 0. 0. 0. 0. 0.]\n",
      " [0. 0. 0. 0. 0. 0. 0. 0. 0. 0. 0. 0. 0.]\n",
      " [0. 0. 0. 0. 0. 0. 0. 0. 0. 0. 0. 0. 0.]\n",
      " [0. 0. 0. 0. 0. 0. 0. 0. 0. 0. 0. 0. 0.]\n",
      " [0. 0. 0. 0. 0. 0. 0. 0. 0. 0. 0. 0. 0.]\n",
      " [0. 0. 0. 0. 0. 0. 0. 0. 0. 0. 0. 0. 0.]\n",
      " [0. 0. 0. 0. 0. 0. 0. 0. 0. 0. 0. 0. 0.]\n",
      " [0. 0. 0. 0. 0. 0. 0. 0. 0. 0. 0. 0. 1.]\n",
      " [0. 0. 0. 0. 0. 0. 0. 0. 0. 0. 0. 1. 0.]]\n",
      "sono indece_1  [[1]]\n",
      "sono indece_2  [[12]]\n",
      "sono co_occurence_matrix  [[0. 0. 0. 0. 0. 0. 0. 0. 0. 0. 0. 0. 0.]\n",
      " [0. 0. 0. 0. 0. 0. 0. 0. 0. 0. 0. 0. 1.]\n",
      " [0. 0. 0. 0. 0. 0. 0. 0. 0. 0. 0. 0. 0.]\n",
      " [0. 0. 0. 0. 0. 0. 0. 0. 0. 0. 0. 0. 0.]\n",
      " [0. 0. 0. 0. 0. 0. 0. 0. 0. 0. 0. 0. 0.]\n",
      " [0. 0. 0. 0. 0. 0. 0. 0. 0. 0. 0. 0. 0.]\n",
      " [0. 0. 0. 0. 0. 0. 0. 0. 0. 0. 0. 0. 0.]\n",
      " [0. 0. 0. 0. 0. 0. 0. 0. 0. 0. 0. 0. 0.]\n",
      " [0. 0. 0. 0. 0. 0. 0. 0. 0. 0. 0. 0. 0.]\n",
      " [0. 0. 0. 0. 0. 0. 0. 0. 0. 0. 0. 0. 0.]\n",
      " [0. 0. 0. 0. 0. 0. 0. 0. 0. 0. 0. 0. 0.]\n",
      " [0. 0. 0. 0. 0. 0. 0. 0. 0. 0. 0. 0. 1.]\n",
      " [0. 1. 0. 0. 0. 0. 0. 0. 0. 0. 0. 1. 0.]]\n",
      "sono indece_1  [[4]]\n",
      "sono indece_2  [[1]]\n",
      "sono co_occurence_matrix  [[0. 0. 0. 0. 0. 0. 0. 0. 0. 0. 0. 0. 0.]\n",
      " [0. 0. 0. 0. 1. 0. 0. 0. 0. 0. 0. 0. 1.]\n",
      " [0. 0. 0. 0. 0. 0. 0. 0. 0. 0. 0. 0. 0.]\n",
      " [0. 0. 0. 0. 0. 0. 0. 0. 0. 0. 0. 0. 0.]\n",
      " [0. 1. 0. 0. 0. 0. 0. 0. 0. 0. 0. 0. 0.]\n",
      " [0. 0. 0. 0. 0. 0. 0. 0. 0. 0. 0. 0. 0.]\n",
      " [0. 0. 0. 0. 0. 0. 0. 0. 0. 0. 0. 0. 0.]\n",
      " [0. 0. 0. 0. 0. 0. 0. 0. 0. 0. 0. 0. 0.]\n",
      " [0. 0. 0. 0. 0. 0. 0. 0. 0. 0. 0. 0. 0.]\n",
      " [0. 0. 0. 0. 0. 0. 0. 0. 0. 0. 0. 0. 0.]\n",
      " [0. 0. 0. 0. 0. 0. 0. 0. 0. 0. 0. 0. 0.]\n",
      " [0. 0. 0. 0. 0. 0. 0. 0. 0. 0. 0. 0. 1.]\n",
      " [0. 1. 0. 0. 0. 0. 0. 0. 0. 0. 0. 1. 0.]]\n",
      "sono indece_1  [[9]]\n",
      "sono indece_2  [[4]]\n",
      "sono co_occurence_matrix  [[0. 0. 0. 0. 0. 0. 0. 0. 0. 0. 0. 0. 0.]\n",
      " [0. 0. 0. 0. 1. 0. 0. 0. 0. 0. 0. 0. 1.]\n",
      " [0. 0. 0. 0. 0. 0. 0. 0. 0. 0. 0. 0. 0.]\n",
      " [0. 0. 0. 0. 0. 0. 0. 0. 0. 0. 0. 0. 0.]\n",
      " [0. 1. 0. 0. 0. 0. 0. 0. 0. 1. 0. 0. 0.]\n",
      " [0. 0. 0. 0. 0. 0. 0. 0. 0. 0. 0. 0. 0.]\n",
      " [0. 0. 0. 0. 0. 0. 0. 0. 0. 0. 0. 0. 0.]\n",
      " [0. 0. 0. 0. 0. 0. 0. 0. 0. 0. 0. 0. 0.]\n",
      " [0. 0. 0. 0. 0. 0. 0. 0. 0. 0. 0. 0. 0.]\n",
      " [0. 0. 0. 0. 1. 0. 0. 0. 0. 0. 0. 0. 0.]\n",
      " [0. 0. 0. 0. 0. 0. 0. 0. 0. 0. 0. 0. 0.]\n",
      " [0. 0. 0. 0. 0. 0. 0. 0. 0. 0. 0. 0. 1.]\n",
      " [0. 1. 0. 0. 0. 0. 0. 0. 0. 0. 0. 1. 0.]]\n",
      "sono indece_1  [[9]]\n",
      "sono indece_2  [[2]]\n",
      "sono co_occurence_matrix  [[0. 0. 0. 0. 0. 0. 0. 0. 0. 0. 0. 0. 0.]\n",
      " [0. 0. 0. 0. 1. 0. 0. 0. 0. 0. 0. 0. 1.]\n",
      " [0. 0. 0. 0. 0. 0. 0. 0. 0. 1. 0. 0. 0.]\n",
      " [0. 0. 0. 0. 0. 0. 0. 0. 0. 0. 0. 0. 0.]\n",
      " [0. 1. 0. 0. 0. 0. 0. 0. 0. 1. 0. 0. 0.]\n",
      " [0. 0. 0. 0. 0. 0. 0. 0. 0. 0. 0. 0. 0.]\n",
      " [0. 0. 0. 0. 0. 0. 0. 0. 0. 0. 0. 0. 0.]\n",
      " [0. 0. 0. 0. 0. 0. 0. 0. 0. 0. 0. 0. 0.]\n",
      " [0. 0. 0. 0. 0. 0. 0. 0. 0. 0. 0. 0. 0.]\n",
      " [0. 0. 1. 0. 1. 0. 0. 0. 0. 0. 0. 0. 0.]\n",
      " [0. 0. 0. 0. 0. 0. 0. 0. 0. 0. 0. 0. 0.]\n",
      " [0. 0. 0. 0. 0. 0. 0. 0. 0. 0. 0. 0. 1.]\n",
      " [0. 1. 0. 0. 0. 0. 0. 0. 0. 0. 0. 1. 0.]]\n",
      "sono indece_1  [[5]]\n",
      "sono indece_2  [[9]]\n",
      "sono co_occurence_matrix  [[0. 0. 0. 0. 0. 0. 0. 0. 0. 0. 0. 0. 0.]\n",
      " [0. 0. 0. 0. 1. 0. 0. 0. 0. 0. 0. 0. 1.]\n",
      " [0. 0. 0. 0. 0. 0. 0. 0. 0. 1. 0. 0. 0.]\n",
      " [0. 0. 0. 0. 0. 0. 0. 0. 0. 0. 0. 0. 0.]\n",
      " [0. 1. 0. 0. 0. 0. 0. 0. 0. 1. 0. 0. 0.]\n",
      " [0. 0. 0. 0. 0. 0. 0. 0. 0. 1. 0. 0. 0.]\n",
      " [0. 0. 0. 0. 0. 0. 0. 0. 0. 0. 0. 0. 0.]\n",
      " [0. 0. 0. 0. 0. 0. 0. 0. 0. 0. 0. 0. 0.]\n",
      " [0. 0. 0. 0. 0. 0. 0. 0. 0. 0. 0. 0. 0.]\n",
      " [0. 0. 1. 0. 1. 1. 0. 0. 0. 0. 0. 0. 0.]\n",
      " [0. 0. 0. 0. 0. 0. 0. 0. 0. 0. 0. 0. 0.]\n",
      " [0. 0. 0. 0. 0. 0. 0. 0. 0. 0. 0. 0. 1.]\n",
      " [0. 1. 0. 0. 0. 0. 0. 0. 0. 0. 0. 1. 0.]]\n",
      "sono indece_1  [[6]]\n",
      "sono indece_2  [[5]]\n",
      "sono co_occurence_matrix  [[0. 0. 0. 0. 0. 0. 0. 0. 0. 0. 0. 0. 0.]\n",
      " [0. 0. 0. 0. 1. 0. 0. 0. 0. 0. 0. 0. 1.]\n",
      " [0. 0. 0. 0. 0. 0. 0. 0. 0. 1. 0. 0. 0.]\n",
      " [0. 0. 0. 0. 0. 0. 0. 0. 0. 0. 0. 0. 0.]\n",
      " [0. 1. 0. 0. 0. 0. 0. 0. 0. 1. 0. 0. 0.]\n",
      " [0. 0. 0. 0. 0. 0. 1. 0. 0. 1. 0. 0. 0.]\n",
      " [0. 0. 0. 0. 0. 1. 0. 0. 0. 0. 0. 0. 0.]\n",
      " [0. 0. 0. 0. 0. 0. 0. 0. 0. 0. 0. 0. 0.]\n",
      " [0. 0. 0. 0. 0. 0. 0. 0. 0. 0. 0. 0. 0.]\n",
      " [0. 0. 1. 0. 1. 1. 0. 0. 0. 0. 0. 0. 0.]\n",
      " [0. 0. 0. 0. 0. 0. 0. 0. 0. 0. 0. 0. 0.]\n",
      " [0. 0. 0. 0. 0. 0. 0. 0. 0. 0. 0. 0. 1.]\n",
      " [0. 1. 0. 0. 0. 0. 0. 0. 0. 0. 0. 1. 0.]]\n",
      "sono indece_1  [[7]]\n",
      "sono indece_2  [[3]]\n",
      "sono co_occurence_matrix  [[0. 0. 0. 0. 0. 0. 0. 0. 0. 0. 0. 0. 0.]\n",
      " [0. 0. 0. 0. 1. 0. 0. 0. 0. 0. 0. 0. 1.]\n",
      " [0. 0. 0. 0. 0. 0. 0. 0. 0. 1. 0. 0. 0.]\n",
      " [0. 0. 0. 0. 0. 0. 0. 1. 0. 0. 0. 0. 0.]\n",
      " [0. 1. 0. 0. 0. 0. 0. 0. 0. 1. 0. 0. 0.]\n",
      " [0. 0. 0. 0. 0. 0. 1. 0. 0. 1. 0. 0. 0.]\n",
      " [0. 0. 0. 0. 0. 1. 0. 0. 0. 0. 0. 0. 0.]\n",
      " [0. 0. 0. 1. 0. 0. 0. 0. 0. 0. 0. 0. 0.]\n",
      " [0. 0. 0. 0. 0. 0. 0. 0. 0. 0. 0. 0. 0.]\n",
      " [0. 0. 1. 0. 1. 1. 0. 0. 0. 0. 0. 0. 0.]\n",
      " [0. 0. 0. 0. 0. 0. 0. 0. 0. 0. 0. 0. 0.]\n",
      " [0. 0. 0. 0. 0. 0. 0. 0. 0. 0. 0. 0. 1.]\n",
      " [0. 1. 0. 0. 0. 0. 0. 0. 0. 0. 0. 1. 0.]]\n",
      "sono indece_1  [[8]]\n",
      "sono indece_2  [[7]]\n",
      "sono co_occurence_matrix  [[0. 0. 0. 0. 0. 0. 0. 0. 0. 0. 0. 0. 0.]\n",
      " [0. 0. 0. 0. 1. 0. 0. 0. 0. 0. 0. 0. 1.]\n",
      " [0. 0. 0. 0. 0. 0. 0. 0. 0. 1. 0. 0. 0.]\n",
      " [0. 0. 0. 0. 0. 0. 0. 1. 0. 0. 0. 0. 0.]\n",
      " [0. 1. 0. 0. 0. 0. 0. 0. 0. 1. 0. 0. 0.]\n",
      " [0. 0. 0. 0. 0. 0. 1. 0. 0. 1. 0. 0. 0.]\n",
      " [0. 0. 0. 0. 0. 1. 0. 0. 0. 0. 0. 0. 0.]\n",
      " [0. 0. 0. 1. 0. 0. 0. 0. 1. 0. 0. 0. 0.]\n",
      " [0. 0. 0. 0. 0. 0. 0. 1. 0. 0. 0. 0. 0.]\n",
      " [0. 0. 1. 0. 1. 1. 0. 0. 0. 0. 0. 0. 0.]\n",
      " [0. 0. 0. 0. 0. 0. 0. 0. 0. 0. 0. 0. 0.]\n",
      " [0. 0. 0. 0. 0. 0. 0. 0. 0. 0. 0. 0. 1.]\n",
      " [0. 1. 0. 0. 0. 0. 0. 0. 0. 0. 0. 1. 0.]]\n",
      "sono indece_1  [[0]]\n",
      "sono indece_2  [[8]]\n",
      "sono co_occurence_matrix  [[0. 0. 0. 0. 0. 0. 0. 0. 1. 0. 0. 0. 0.]\n",
      " [0. 0. 0. 0. 1. 0. 0. 0. 0. 0. 0. 0. 1.]\n",
      " [0. 0. 0. 0. 0. 0. 0. 0. 0. 1. 0. 0. 0.]\n",
      " [0. 0. 0. 0. 0. 0. 0. 1. 0. 0. 0. 0. 0.]\n",
      " [0. 1. 0. 0. 0. 0. 0. 0. 0. 1. 0. 0. 0.]\n",
      " [0. 0. 0. 0. 0. 0. 1. 0. 0. 1. 0. 0. 0.]\n",
      " [0. 0. 0. 0. 0. 1. 0. 0. 0. 0. 0. 0. 0.]\n",
      " [0. 0. 0. 1. 0. 0. 0. 0. 1. 0. 0. 0. 0.]\n",
      " [1. 0. 0. 0. 0. 0. 0. 1. 0. 0. 0. 0. 0.]\n",
      " [0. 0. 1. 0. 1. 1. 0. 0. 0. 0. 0. 0. 0.]\n",
      " [0. 0. 0. 0. 0. 0. 0. 0. 0. 0. 0. 0. 0.]\n",
      " [0. 0. 0. 0. 0. 0. 0. 0. 0. 0. 0. 0. 1.]\n",
      " [0. 1. 0. 0. 0. 0. 0. 0. 0. 0. 0. 1. 0.]]\n",
      "sono indece_1  [[10]]\n",
      "sono indece_2  [[0]]\n",
      "sono co_occurence_matrix  [[0. 0. 0. 0. 0. 0. 0. 0. 1. 0. 1. 0. 0.]\n",
      " [0. 0. 0. 0. 1. 0. 0. 0. 0. 0. 0. 0. 1.]\n",
      " [0. 0. 0. 0. 0. 0. 0. 0. 0. 1. 0. 0. 0.]\n",
      " [0. 0. 0. 0. 0. 0. 0. 1. 0. 0. 0. 0. 0.]\n",
      " [0. 1. 0. 0. 0. 0. 0. 0. 0. 1. 0. 0. 0.]\n",
      " [0. 0. 0. 0. 0. 0. 1. 0. 0. 1. 0. 0. 0.]\n",
      " [0. 0. 0. 0. 0. 1. 0. 0. 0. 0. 0. 0. 0.]\n",
      " [0. 0. 0. 1. 0. 0. 0. 0. 1. 0. 0. 0. 0.]\n",
      " [1. 0. 0. 0. 0. 0. 0. 1. 0. 0. 0. 0. 0.]\n",
      " [0. 0. 1. 0. 1. 1. 0. 0. 0. 0. 0. 0. 0.]\n",
      " [1. 0. 0. 0. 0. 0. 0. 0. 0. 0. 0. 0. 0.]\n",
      " [0. 0. 0. 0. 0. 0. 0. 0. 0. 0. 0. 0. 1.]\n",
      " [0. 1. 0. 0. 0. 0. 0. 0. 0. 0. 0. 1. 0.]]\n"
     ]
    }
   ],
   "source": [
    "corpus_words_unique = np.array(list(corpus_words_unique))\n",
    "co_occurence_matrix = np.zeros((len(corpus_words_unique),len(corpus_words_unique)))\n",
    "for corpus_words_ in corpus_processed_docs:\n",
    "    for i in range(1,len(corpus_words_)):\n",
    "        index_1 = np.argwhere(corpus_words_unique == corpus_words_[i])\n",
    "        index_2 = np.argwhere(corpus_words_unique == corpus_words_[i-1])\n",
    "        print(\"sono indece_1 \",index_1)\n",
    "        print(\"sono indece_2 \",index_2)\n",
    "        co_occurence_matrix[index_1, index_2] += 1\n",
    "        co_occurence_matrix[index_2, index_1] += 1\n",
    "        print(\"sono co_occurence_matrix \",co_occurence_matrix)"
   ]
  },
  {
   "cell_type": "code",
   "execution_count": 5,
   "metadata": {},
   "outputs": [
    {
     "name": "stdout",
     "output_type": "stream",
     "text": [
      "co_occurence_matrix follows\n",
      "[[0. 0. 0. 0. 0. 0. 0. 0. 1. 0. 1. 0. 0.]\n",
      " [0. 0. 0. 0. 1. 0. 0. 0. 0. 0. 0. 0. 1.]\n",
      " [0. 0. 0. 0. 0. 0. 0. 0. 0. 1. 0. 0. 0.]\n",
      " [0. 0. 0. 0. 0. 0. 0. 1. 0. 0. 0. 0. 0.]\n",
      " [0. 1. 0. 0. 0. 0. 0. 0. 0. 1. 0. 0. 0.]\n",
      " [0. 0. 0. 0. 0. 0. 1. 0. 0. 1. 0. 0. 0.]\n",
      " [0. 0. 0. 0. 0. 1. 0. 0. 0. 0. 0. 0. 0.]\n",
      " [0. 0. 0. 1. 0. 0. 0. 0. 1. 0. 0. 0. 0.]\n",
      " [1. 0. 0. 0. 0. 0. 0. 1. 0. 0. 0. 0. 0.]\n",
      " [0. 0. 1. 0. 1. 1. 0. 0. 0. 0. 0. 0. 0.]\n",
      " [1. 0. 0. 0. 0. 0. 0. 0. 0. 0. 0. 0. 0.]\n",
      " [0. 0. 0. 0. 0. 0. 0. 0. 0. 0. 0. 0. 1.]\n",
      " [0. 1. 0. 0. 0. 0. 0. 0. 0. 0. 0. 1. 0.]]\n"
     ]
    },
    {
     "data": {
      "image/png": "[encoded data removed]",
      "text/plain": [
       "<Figure size 432x288 with 1 Axes>"
      ]
     },
     "metadata": {
      "needs_background": "light"
     },
     "output_type": "display_data"
    }
   ],
   "source": [
    "U,S,V = np.linalg.svd(co_occurence_matrix,full_matrices=False)\n",
    "print(\"co_occurence_matrix follows\")\n",
    "print(co_occurence_matrix)\n",
    "import matplotlib.pyplot as plt\n",
    "for i in range(len(corpus_words_unique)):\n",
    "    plt.text(U[i,0],U[i,1], corpus_words_unique[i])\n",
    "plt.xlim((-0.75,0.75))\n",
    "plt.ylim((-0.75,0.75))\n",
    "plt.show()"
   ]
  },
  {
   "cell_type": "code",
   "execution_count": 11,
   "metadata": {},
   "outputs": [
    {
     "data": {
      "text/plain": [
       "array([[ 7.77156117e-16,  6.55495991e-01, -3.33644647e-16,\n",
       "         1.58481208e-15,  1.65445465e-01, -3.17151714e-02,\n",
       "        -1.76635402e-16, -5.88784672e-17,  5.41322019e-01,\n",
       "        -3.00379002e-02, -4.85026078e-01, -1.12981644e-01,\n",
       "         1.57009246e-16],\n",
       "       [-1.68457870e-01,  2.83211074e-16, -5.74096057e-17,\n",
       "        -3.67239188e-16,  1.02070219e-01,  5.32459834e-01,\n",
       "         3.88582843e-17,  1.66115460e-17,  2.75921399e-02,\n",
       "         4.97246239e-01,  1.48709538e-01, -6.38404626e-01,\n",
       "         1.75541673e-17],\n",
       "       [ 0.00000000e+00, -1.40506439e-16, -3.82814881e-01,\n",
       "        -1.41842989e-01,  5.27355937e-16, -1.11022302e-16,\n",
       "         3.70317432e-01,  6.02382769e-01,  3.26995375e-16,\n",
       "         7.58941521e-17, -4.16333634e-16,  1.11022302e-16,\n",
       "        -5.77350269e-01],\n",
       "       [ 0.00000000e+00, -7.89884868e-16, -2.45679264e-01,\n",
       "         6.63054824e-01,  1.97064587e-15, -4.44089210e-16,\n",
       "         6.02382769e-01, -3.70317432e-01, -2.15105711e-16,\n",
       "         0.00000000e+00,  1.30451205e-15,  0.00000000e+00,\n",
       "        -5.55111512e-17],\n",
       "       [ 3.05077335e-18, -1.11022302e-16, -7.65629762e-01,\n",
       "        -2.83685979e-01,  1.06512021e-15, -2.85362012e-16,\n",
       "        -1.73472348e-18, -4.32379826e-16, -3.46944695e-18,\n",
       "        -2.47198095e-17, -7.84962373e-16, -5.50774704e-17,\n",
       "         5.77350269e-01],\n",
       "       [ 4.29877979e-16,  3.35070080e-01,  8.92022629e-16,\n",
       "        -1.93789093e-15,  7.91389540e-01, -1.51705911e-01,\n",
       "         2.30220191e-16,  2.95198981e-16, -4.04496532e-01,\n",
       "         2.24454687e-02,  2.65463571e-01,  6.18369032e-02,\n",
       "         1.82087290e-16],\n",
       "       [ 1.64622278e-18, -4.51028104e-17, -3.82814881e-01,\n",
       "        -1.41842989e-01,  5.87393632e-16, -1.34908632e-16,\n",
       "        -3.70317432e-01, -6.02382769e-01, -3.22821197e-17,\n",
       "        -4.02391472e-17, -5.02756406e-16, -8.22142884e-17,\n",
       "        -5.77350269e-01],\n",
       "       [-4.98011193e-01,  3.88578059e-16, -9.70353267e-17,\n",
       "         3.21668739e-16,  1.23408706e-01,  6.43774250e-01,\n",
       "        -1.68000071e-17,  4.34309076e-18, -9.33335071e-03,\n",
       "        -1.68199116e-01, -1.22996308e-01,  5.28018667e-01,\n",
       "         2.43551062e-17],\n",
       "       [ 4.11485208e-16,  4.05118802e-01, -8.61424692e-16,\n",
       "        -1.04655849e-15, -2.67696386e-01,  5.13162253e-02,\n",
       "         2.73646523e-16, -3.21254621e-16,  3.34555407e-01,\n",
       "        -1.85644433e-02,  7.84788680e-01,  1.82808140e-01,\n",
       "         7.27011915e-17],\n",
       "       [ 9.60814447e-20, -8.40473524e-16, -2.45679264e-01,\n",
       "         6.63054824e-01,  1.62919006e-15, -3.45530980e-16,\n",
       "        -6.02382769e-01,  3.70317432e-01, -4.40907790e-17,\n",
       "        -1.17991749e-16,  1.91385745e-15, -2.25606296e-17,\n",
       "        -1.50920942e-16],\n",
       "       [-2.72570559e-01,  2.40353540e-16, -1.97733060e-17,\n",
       "         2.32300186e-16, -6.30828648e-02, -3.29078275e-01,\n",
       "        -1.76064698e-16,  1.12349318e-17,  4.46450202e-02,\n",
       "         8.04561315e-01, -9.19075492e-02,  3.94555758e-01,\n",
       "         6.80093885e-18],\n",
       "       [-8.05799037e-01,  8.32667268e-16,  7.74803967e-17,\n",
       "        -2.02370510e-16, -7.62707746e-02, -3.97874368e-01,\n",
       "         5.69354758e-17, -1.21775531e-17, -1.51016787e-02,\n",
       "        -2.72151886e-01,  7.60158990e-02, -3.26333483e-01,\n",
       "        -2.43551062e-17],\n",
       "       [ 5.39141835e-16,  5.42154779e-01, -1.09757616e-15,\n",
       "         1.80334307e-15, -4.89105634e-01,  9.37594091e-02,\n",
       "        -7.71042544e-17,  2.48127460e-16, -6.54489137e-01,\n",
       "         3.63175313e-02, -1.64065509e-01, -3.82173079e-02,\n",
       "        -6.60766866e-17]])"
      ]
     },
     "execution_count": 11,
     "metadata": {},
     "output_type": "execute_result"
    }
   ],
   "source": []
  },
  {
   "cell_type": "code",
   "execution_count": 12,
   "metadata": {},
   "outputs": [
    {
     "data": {
      "text/plain": [
       "array(['portare', 'Una', 'Preferirei', 'a', 'qualcosa', 'pizza', 'casa',\n",
       "       'per', 'Porto', 'mangire', 'civo', 'via', 'il'], dtype='<U10')"
      ]
     },
     "execution_count": 12,
     "metadata": {},
     "output_type": "execute_result"
    }
   ],
   "source": [
    "corpus_words_unique"
   ]
  },
  {
   "cell_type": "code",
   "execution_count": 20,
   "metadata": {},
   "outputs": [
    {
     "data": {
      "text/plain": [
       "['Preferirei', 'mangire', 'qualcosa', 'a', 'casa']"
      ]
     },
     "execution_count": 20,
     "metadata": {},
     "output_type": "execute_result"
    }
   ],
   "source": [
    "corpus_processed_docs[2]"
   ]
  },
  {
   "cell_type": "code",
   "execution_count": 23,
   "metadata": {},
   "outputs": [
    {
     "data": {
      "text/plain": [
       "['Preferirei', 'mangire', 'qualcosa', 'a', 'casa']"
      ]
     },
     "execution_count": 23,
     "metadata": {},
     "output_type": "execute_result"
    }
   ],
   "source": [
    "corpus_words_"
   ]
  },
  {
   "cell_type": "code",
   "execution_count": null,
   "metadata": {},
   "outputs": [],
   "source": []
  }
 ],
 "metadata": {
  "kernelspec": {
   "display_name": "Python 3",
   "language": "python",
   "name": "python3"
  },
  "language_info": {
   "codemirror_mode": {
    "name": "ipython",
    "version": 3
   },
   "file_extension": ".py",
   "mimetype": "text/x-python",
   "name": "python",
   "nbconvert_exporter": "python",
   "pygments_lexer": "ipython3",
   "version": "3.6.7"
  }
 },
 "nbformat": 4,
 "nbformat_minor": 2
}
